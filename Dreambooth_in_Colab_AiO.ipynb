{
  "cells": [
    {
      "cell_type": "markdown",
      "metadata": {
        "id": "view-in-github",
        "colab_type": "text"
      },
      "source": [
        "<a href=\"https://colab.research.google.com/github/nameanonymous/GoogleColabwithDB/blob/main/Dreambooth_in_Colab_AiO.ipynb\" target=\"_parent\"><img src=\"https://colab.research.google.com/assets/colab-badge.svg\" alt=\"Open In Colab\"/></a>"
      ]
    },
    {
      "cell_type": "markdown",
      "metadata": {
        "id": "dmQM6HORIQSw"
      },
      "source": [
        "DreamboothをColabで全て完結させるためのノートブックです。\n",
        "モデルの入出力を全てGoogleDriveに委ねているので、現在持っているモデルを先にDriveに入れておくといいです。"
      ]
    },
    {
      "cell_type": "markdown",
      "metadata": {
        "id": "-NLhIUSbPozg"
      },
      "source": [
        "まず今の状態でちゃんとGPUらが動くかどうかを確認します。"
      ]
    },
    {
      "cell_type": "code",
      "execution_count": null,
      "metadata": {
        "colab": {
          "base_uri": "https://localhost:8080/"
        },
        "id": "dI4UZ1bAPto6",
        "outputId": "d3ee64a9-a563-4591-d70d-110d112086f1"
      },
      "outputs": [
        {
          "output_type": "stream",
          "name": "stdout",
          "text": [
            "Tesla T4, 15109 MiB, 15109 MiB\n"
          ]
        }
      ],
      "source": [
        "#@markdown Check type of GPU and VRAM available.\n",
        "!nvidia-smi --query-gpu=name,memory.total,memory.free --format=csv,noheader"
      ]
    },
    {
      "cell_type": "markdown",
      "metadata": {
        "id": "iQbk_9nyI_wO"
      },
      "source": [
        "## ckpt to Diffusers conversion\n"
      ]
    },
    {
      "cell_type": "markdown",
      "metadata": {
        "id": "16Qm9OfOISRC"
      },
      "source": [
        "まずは現在持っているckptモデルをdiffusers形式に変換します。"
      ]
    },
    {
      "cell_type": "code",
      "execution_count": null,
      "metadata": {
        "colab": {
          "base_uri": "https://localhost:8080/"
        },
        "id": "GDRb04mAHkBE",
        "outputId": "cca432c0-9006-41ad-9aa5-b571b2a77b6f"
      },
      "outputs": [
        {
          "output_type": "stream",
          "name": "stdout",
          "text": [
            "\u001b[K     |████████████████████████████████| 255 kB 9.5 MB/s \n",
            "\u001b[K     |████████████████████████████████| 5.3 MB 31.1 MB/s \n",
            "\u001b[K     |████████████████████████████████| 79 kB 4.3 MB/s \n",
            "\u001b[K     |████████████████████████████████| 163 kB 70.9 MB/s \n",
            "\u001b[K     |████████████████████████████████| 7.6 MB 67.6 MB/s \n",
            "\u001b[K     |████████████████████████████████| 117 kB 67.1 MB/s \n",
            "\u001b[?25h  Building wheel for antlr4-python3-runtime (setup.py) ... \u001b[?25l\u001b[?25hdone\n"
          ]
        }
      ],
      "source": [
        "%pip install -q diffusers transformers omegaconf"
      ]
    },
    {
      "cell_type": "markdown",
      "metadata": {
        "id": "LDMU2vPwI9Jz"
      },
      "source": [
        "Google Driveに接続します。したくない場合は共有リンクを作成しgdownする方法もありますが、正直手間です。Driveにあるフォルダはcontent/drive/MyDrive内にあります。"
      ]
    },
    {
      "cell_type": "code",
      "execution_count": null,
      "metadata": {
        "colab": {
          "base_uri": "https://localhost:8080/"
        },
        "id": "j0cu-U3qJJUN",
        "outputId": "2608fe95-e3a2-4e90-a3a6-655bdc343f2d"
      },
      "outputs": [
        {
          "output_type": "stream",
          "name": "stdout",
          "text": [
            "Mounted at /content/drive\n"
          ]
        }
      ],
      "source": [
        "from google.colab import drive\n",
        "drive.mount('/content/drive')"
      ]
    },
    {
      "cell_type": "markdown",
      "metadata": {
        "id": "cFDNzCjEJYXM"
      },
      "source": [
        "自分が置いたckptファイルのパスを指定します。フォルダを先に作っておき、そこの中に入れておけば今後複数回DBをする際にファイルらがとっ散らかずに済みますのでDrive内にフォルダを作成しておくといいかもしれません。またyaml設定ファイルも忘れずにインポートしておきましょう。"
      ]
    },
    {
      "cell_type": "code",
      "execution_count": null,
      "metadata": {
        "id": "Y_q7xcA3K3uZ"
      },
      "outputs": [],
      "source": [
        "#@markdown ckptファイルのパス\n",
        "MODEL_PATH = \"/content/drive/MyDrive/***\" #@param {type:\"string\"}\n",
        "\n",
        "#@markdown yamlファイルのパス\n",
        "YAML_PATH = \"/content/drive/MyDrive/***\" #@param {type:\"string\"}"
      ]
    },
    {
      "cell_type": "markdown",
      "metadata": {
        "id": "3ZyXSN1lLw_r"
      },
      "source": [
        "Diffusersモデル変換に必要なコードをクローンします。"
      ]
    },
    {
      "cell_type": "code",
      "execution_count": null,
      "metadata": {
        "id": "iQg98HKJL4SC"
      },
      "outputs": [],
      "source": [
        "!git clone https://github.com/huggingface/diffusers"
      ]
    },
    {
      "cell_type": "code",
      "execution_count": null,
      "metadata": {
        "id": "sRZoxCCvL6fI"
      },
      "outputs": [],
      "source": [
        "%cd /content/diffusers/scripts"
      ]
    },
    {
      "cell_type": "markdown",
      "metadata": {
        "id": "7szeItqAL7BW"
      },
      "source": [
        "変換します。Diffusionフォルダが作成され、そのフォルダが変換されたものとなります。このパス(/content/diffusion)は後で使いますのでよく覚えておきましょう。"
      ]
    },
    {
      "cell_type": "code",
      "execution_count": null,
      "metadata": {
        "id": "FQHUz-JJL-JU"
      },
      "outputs": [],
      "source": [
        "!python convert_original_stable_diffusion_to_diffusers.py --checkpoint_path=$MODEL_PATH --original_config_file=$YAML_PATH  --dump_path /content/diffusion"
      ]
    },
    {
      "cell_type": "markdown",
      "metadata": {
        "id": "k1oGyY8DM7ej"
      },
      "source": [
        "追記:\n",
        "因みに出来たdiffusersモデルをzip形式で圧縮することによってダウンロードすることも可能です。"
      ]
    },
    {
      "cell_type": "code",
      "execution_count": null,
      "metadata": {
        "id": "HuSF6UpwNaLB"
      },
      "outputs": [],
      "source": [
        "#@markdown ダウンロードファイル名(zip)\n",
        "DOWNLOAD_FILE_NAME = \"ABCDE\" #@param {type:\"string\"}\n",
        "DOWNLOAD_PATH = \"/content/\" + DOWNLOAD_FILE_NAME + \".zip\""
      ]
    },
    {
      "cell_type": "code",
      "execution_count": null,
      "metadata": {
        "colab": {
          "base_uri": "https://localhost:8080/"
        },
        "id": "Nsd5USy0NKz-",
        "outputId": "db305c34-6d43-461f-ae07-5332a87038ec"
      },
      "outputs": [
        {
          "name": "stdout",
          "output_type": "stream",
          "text": [
            "\tzip warning: name not matched: /content/diffusion\n",
            "\n",
            "zip error: Nothing to do! (try: zip -r /content/ABCDE.zip . -i /content/diffusion)\n"
          ]
        }
      ],
      "source": [
        "!zip -r $DOWNLOAD_PATH /content/diffusion"
      ]
    },
    {
      "cell_type": "markdown",
      "metadata": {
        "id": "9DEHlWpJMy-3"
      },
      "source": [
        "## 学習させる"
      ]
    },
    {
      "cell_type": "markdown",
      "metadata": {
        "id": "VqvwtI8pPVS-"
      },
      "source": [
        "学習させるための環境創りをします。"
      ]
    },
    {
      "cell_type": "code",
      "execution_count": null,
      "metadata": {
        "colab": {
          "base_uri": "https://localhost:8080/"
        },
        "id": "hm-6wwF7P6cG",
        "outputId": "2eeb8e84-ab2a-41d5-e39a-2fd67e6e63ec"
      },
      "outputs": [
        {
          "output_type": "stream",
          "name": "stdout",
          "text": [
            "  Installing build dependencies ... \u001b[?25l\u001b[?25hdone\n",
            "  Getting requirements to build wheel ... \u001b[?25l\u001b[?25hdone\n",
            "    Preparing wheel metadata ... \u001b[?25l\u001b[?25hdone\n",
            "\u001b[K     |████████████████████████████████| 163 kB 8.3 MB/s \n",
            "\u001b[?25h  Building wheel for diffusers (PEP 517) ... \u001b[?25l\u001b[?25hdone\n",
            "\u001b[K     |████████████████████████████████| 18.7 MB 136 kB/s \n",
            "\u001b[K     |████████████████████████████████| 143 kB 6.9 MB/s \n",
            "\u001b[K     |████████████████████████████████| 5.3 MB 53.7 MB/s \n",
            "\u001b[K     |████████████████████████████████| 53 kB 1.8 MB/s \n",
            "\u001b[K     |████████████████████████████████| 62.5 MB 1.2 MB/s \n",
            "\u001b[K     |████████████████████████████████| 5.3 MB 53.7 MB/s \n",
            "\u001b[K     |████████████████████████████████| 7.6 MB 41.3 MB/s \n",
            "\u001b[K     |████████████████████████████████| 212 kB 63.2 MB/s \n",
            "\u001b[K     |████████████████████████████████| 84 kB 4.1 MB/s \n",
            "\u001b[K     |████████████████████████████████| 54 kB 3.6 MB/s \n",
            "\u001b[K     |████████████████████████████████| 112 kB 76.8 MB/s \n",
            "\u001b[K     |████████████████████████████████| 2.3 MB 46.2 MB/s \n",
            "\u001b[K     |████████████████████████████████| 55 kB 3.5 MB/s \n",
            "\u001b[K     |████████████████████████████████| 270 kB 69.2 MB/s \n",
            "\u001b[K     |████████████████████████████████| 56 kB 5.1 MB/s \n",
            "\u001b[K     |████████████████████████████████| 84 kB 3.4 MB/s \n",
            "\u001b[K     |████████████████████████████████| 63 kB 2.2 MB/s \n",
            "\u001b[K     |████████████████████████████████| 80 kB 9.8 MB/s \n",
            "\u001b[K     |████████████████████████████████| 68 kB 6.8 MB/s \n",
            "\u001b[K     |████████████████████████████████| 46 kB 4.7 MB/s \n",
            "\u001b[K     |████████████████████████████████| 4.0 MB 47.8 MB/s \n",
            "\u001b[K     |████████████████████████████████| 856 kB 64.5 MB/s \n",
            "\u001b[K     |████████████████████████████████| 593 kB 68.6 MB/s \n",
            "\u001b[?25h  Building wheel for ffmpy (setup.py) ... \u001b[?25l\u001b[?25hdone\n",
            "  Building wheel for python-multipart (setup.py) ... \u001b[?25l\u001b[?25hdone\n",
            "\u001b[K     |████████████████████████████████| 102.9 MB 107 kB/s \n",
            "\u001b[?25h"
          ]
        }
      ],
      "source": [
        "!wget -q https://github.com/ShivamShrirao/diffusers/raw/main/examples/dreambooth/train_dreambooth.py\n",
        "%pip install -qq git+https://github.com/ShivamShrirao/diffusers\n",
        "%pip install -q -U --pre triton\n",
        "%pip install -q accelerate==0.12.0 transformers ftfy bitsandbytes gradio\n",
        "%pip install -q https://github.com/metrolobo/xformers_wheels/releases/download/1d31a3ac_various_6/xformers-0.0.14.dev0-cp37-cp37m-linux_x86_64.whl"
      ]
    },
    {
      "cell_type": "markdown",
      "metadata": {
        "id": "xTAKd7zbQDYw"
      },
      "source": [
        "設定をします。先程のdiffusionフォルダをここで指定します(デフォルトの場合MODEL NAME欄は弄らなくて大丈夫です)。また512*512にサイズ調整した画像が置いてあるフォルダもここで指定します。"
      ]
    },
    {
      "cell_type": "markdown",
      "source": [
        " \n",
        "\n",
        "> 注意:CLASS NAMEについて\n",
        "\n",
        "\n",
        "今回DBで覚えさせる新しい概念新しい概念(キャラ、ポーズ、他)「の」プロンプトを入力してください。\n",
        "以下実行する際の引数にINSTANCE PROMPT と CLASS PROMPTがあると思われますが、\n",
        "これは簡単に言うのであれば学習させるものがポーズであれば「AがBする」というプロンプトと「A」と言うプロンプトの差を学習させることになるため(結果その差が「Bする」というものになって学習がされます)、もしあまりにもそれぞれのプロンプトが近すぎる（もしくは遠すぎる）場合学習が上手くされない場合があります。動かすデータセットの中身を確認しながらいじるようにして下さい。よくわからないのであればデフォルトのままでも大丈夫だとは思います。\n",
        "キャラを覚えさせたい場合はCLASS PROMPTににそのキャラが女の子の場合はgirl、男の子の場合はboyを入れてみるといいかもしれません。(NAIモデルだとモデルだと1girlとかの方がいいかもとかの方がいいかも)\n",
        "\n",
        "**ちなみにインスタンスとクラス双方全く同じプロンプトにしてしまうと「そもそものデータセットが壊れます」！**"
      ],
      "metadata": {
        "id": "99qoC1u4PeQO"
      }
    },
    {
      "cell_type": "code",
      "execution_count": null,
      "metadata": {
        "id": "zfYn5QasQX_z",
        "colab": {
          "base_uri": "https://localhost:8080/"
        },
        "outputId": "2ec3f0f0-bacd-4312-9afa-20759f006f5a"
      },
      "outputs": [
        {
          "output_type": "stream",
          "name": "stdout",
          "text": [
            "Drive already mounted at /content/drive; to attempt to forcibly remount, call drive.mount(\"/content/drive\", force_remount=True).\n",
            "[*]  /content/drive/MyDrive/stable_diffusion_weights/sks　に保存されます\n",
            "[*] 正則化された画像はここに保存されます： /content/data/yui\n"
          ]
        }
      ],
      "source": [
        "#@markdown　もしモデルを直接GoogleDriveに保存したいのであればチェックを入れてください。\n",
        "save_to_gdrive = True #@param {type:\"boolean\"}\n",
        "if save_to_gdrive:\n",
        "    from google.colab import drive\n",
        "    drive.mount('/content/drive')\n",
        "\n",
        "#@markdown diffusersモデルがある指定します\n",
        "MODEL_NAME = \"/content/drive/MyDrive/diffusion\" #@param {type:\"string\"}\n",
        "\n",
        "#@markdown 学習させたいイメージフォルダのパス\n",
        "INSTANCE_DIR = \"/content/drive/MyDrive/iloveimg-resized\" #@param {type:\"string\"}\n",
        "!mkdir -p $INSTANCE_DIR\n",
        "\n",
        "#@markdown ↑のイメージで学習させたいプロンプト\n",
        "CLASS_NAME = \"yui\" #@param {type:\"string\"}\n",
        "CLASS_DIR = f\"/content/data/{CLASS_NAME}\"\n",
        "\n",
        "#@markdown 学習後のモデルの保存先.\n",
        "\n",
        "OUTPUT_DIR = \"stable_diffusion_weights/sks\" #@param {type:\"string\"}\n",
        "if save_to_gdrive:\n",
        "    OUTPUT_DIR = \"/content/drive/MyDrive/\" + OUTPUT_DIR\n",
        "else:\n",
        "    OUTPUT_DIR = \"/content/\" + OUTPUT_DIR\n",
        "\n",
        "print(f\"[*]  {OUTPUT_DIR}　に保存されます\")\n",
        "\n",
        "!mkdir -p $OUTPUT_DIR\n",
        "\n",
        "#@markdown sks is a rare identifier, feel free to replace it.\n",
        "print(f\"[*] 正則化された画像はここに保存されます： {CLASS_DIR}\")"
      ]
    },
    {
      "cell_type": "code",
      "source": [
        "!accelerate launch train_dreambooth.py \\\n",
        "  --pretrained_model_name_or_path=$MODEL_NAME \\\n",
        "  --instance_data_dir=$INSTANCE_DIR \\\n",
        "  --class_data_dir=$CLASS_DIR \\\n",
        "  --output_dir=$OUTPUT_DIR \\\n",
        "  --with_prior_preservation --prior_loss_weight=1.0 \\\n",
        "  --instance_prompt=\"princess connect! {CLASS_NAME}\" \\\n",
        "  --class_prompt=\"1girl\" \\\n",
        "  --seed=1337 \\\n",
        "  --resolution=512 \\\n",
        "  --train_batch_size=1 \\\n",
        "  --train_text_encoder \\\n",
        "  --mixed_precision=\"fp16\" \\\n",
        "  --use_8bit_adam \\\n",
        "  --gradient_accumulation_steps=1 \\\n",
        "  --learning_rate=0.00000025 \\\n",
        "  --lr_scheduler=\"constant\" \\\n",
        "  --lr_warmup_steps=0 \\\n",
        "  --num_class_images=50 \\\n",
        "  --sample_batch_size=4 \\\n",
        "  --max_train_steps=10000"
      ],
      "metadata": {
        "colab": {
          "base_uri": "https://localhost:8080/"
        },
        "id": "tcU3V5kRfv0r",
        "outputId": "223cc236-52e4-4b42-de1d-2149a6c20c31"
      },
      "execution_count": null,
      "outputs": [
        {
          "output_type": "stream",
          "name": "stdout",
          "text": [
            "The following values were not passed to `accelerate launch` and had defaults used instead:\n",
            "\t`--num_processes` was set to a value of `1`\n",
            "\t`--num_machines` was set to a value of `1`\n",
            "\t`--mixed_precision` was set to a value of `'no'`\n",
            "\t`--num_cpu_threads_per_process` was set to `1` to improve out-of-box performance\n",
            "To avoid this warning pass in values for each of the problematic parameters or run `accelerate config`.\n",
            "The config attributes {'feature_extractor': ['transformers', 'CLIPFeatureExtractor'], 'safety_checker': ['stable_diffusion', 'StableDiffusionSafetyChecker']} were passed to StableDiffusionPipeline, but are not expected and will be ignored. Please verify your model_index.json configuration file.\n",
            "Generating class images: 100% 13/13 [06:43<00:00, 31.02s/it]\n",
            "\n",
            "===================================BUG REPORT===================================\n",
            "Welcome to bitsandbytes. For bug reports, please submit your error trace to: https://github.com/TimDettmers/bitsandbytes/issues\n",
            "For effortless bug reporting copy-paste your error into this form: https://docs.google.com/forms/d/e/1FAIpQLScPB8emS3Thkp66nvqwmjTEgxp8Y9ufuWTzFyr9kJ5AoI47dQ/viewform?usp=sf_link\n",
            "================================================================================\n",
            "/usr/local/lib/python3.7/dist-packages/bitsandbytes/cuda_setup/paths.py:106: UserWarning: /usr/lib64-nvidia did not contain libcudart.so as expected! Searching further paths...\n",
            "  f'{candidate_env_vars[\"LD_LIBRARY_PATH\"]} did not contain '\n",
            "/usr/local/lib/python3.7/dist-packages/bitsandbytes/cuda_setup/paths.py:28: UserWarning: WARNING: The following directories listed in your path were found to be non-existent: {PosixPath('[\"--ip=172.28.0.2\"],\"debugAdapterMultiplexerPath\"'), PosixPath('{\"kernelManagerProxyPort\"'), PosixPath('true}'), PosixPath('6000,\"kernelManagerProxyHost\"'), PosixPath('\"/usr/local/bin/dap_multiplexer\",\"enableLsp\"'), PosixPath('\"172.28.0.3\",\"jupyterArgs\"')}\n",
            "  \"WARNING: The following directories listed in your path were found to \"\n",
            "/usr/local/lib/python3.7/dist-packages/bitsandbytes/cuda_setup/paths.py:28: UserWarning: WARNING: The following directories listed in your path were found to be non-existent: {PosixPath('//ipykernel.pylab.backend_inline'), PosixPath('module')}\n",
            "  \"WARNING: The following directories listed in your path were found to \"\n",
            "/usr/local/lib/python3.7/dist-packages/bitsandbytes/cuda_setup/paths.py:28: UserWarning: WARNING: The following directories listed in your path were found to be non-existent: {PosixPath('/env/python')}\n",
            "  \"WARNING: The following directories listed in your path were found to \"\n",
            "CUDA_SETUP: WARNING! libcudart.so not found in any environmental path. Searching /usr/local/cuda/lib64...\n",
            "CUDA SETUP: CUDA runtime path found: /usr/local/cuda/lib64/libcudart.so\n",
            "CUDA SETUP: Highest compute capability among GPUs detected: 7.5\n",
            "CUDA SETUP: Detected CUDA version 112\n",
            "CUDA SETUP: Loading binary /usr/local/lib/python3.7/dist-packages/bitsandbytes/libbitsandbytes_cuda112.so...\n",
            "Caching latents: 100% 54/54 [00:20<00:00,  2.63it/s]\n",
            "Steps: 100% 10000/10000 [2:35:40<00:00,  1.07it/s, loss=0.263, lr=2.5e-7]The config attributes {'feature_extractor': ['transformers', 'CLIPFeatureExtractor'], 'safety_checker': ['stable_diffusion', 'StableDiffusionSafetyChecker']} were passed to StableDiffusionPipeline, but are not expected and will be ignored. Please verify your model_index.json configuration file.\n",
            "Steps: 100% 10000/10000 [2:36:02<00:00,  1.07it/s, loss=0.263, lr=2.5e-7]\n"
          ]
        }
      ]
    },
    {
      "cell_type": "markdown",
      "source": [
        "これで学習したdiffusersモデルができました。後は後はckptに変換するだけです。"
      ],
      "metadata": {
        "id": "vf3fl3mU8p-b"
      }
    },
    {
      "cell_type": "code",
      "source": [
        "#@markdown Download script\n",
        "!wget -q https://github.com/ShivamShrirao/diffusers/raw/main/scripts/convert_diffusers_to_original_stable_diffusion.py"
      ],
      "metadata": {
        "id": "io_Bylxjn6k8"
      },
      "execution_count": null,
      "outputs": []
    },
    {
      "cell_type": "code",
      "source": [
        "ckpt_path = OUTPUT_DIR + \"/model.ckpt\"\n",
        "\n",
        "half_arg = \"\"\n",
        "#@markdown  容量がない場合はこちらをクリック。尚多少モデルの質が劣化します\n",
        "fp16 = False #@param {type: \"boolean\"}\n",
        "if fp16:\n",
        "    half_arg = \"--half\"\n",
        "!python convert_diffusers_to_original_stable_diffusion.py --model_path $OUTPUT_DIR  --checkpoint_path $ckpt_path $half_arg\n",
        "print(f\"[*] Converted ckpt saved at {ckpt_path}\")"
      ],
      "metadata": {
        "colab": {
          "base_uri": "https://localhost:8080/"
        },
        "id": "odAqhMiQn7jp",
        "outputId": "73b6de57-259b-4427-ac89-3b5fa49016ee"
      },
      "execution_count": null,
      "outputs": [
        {
          "output_type": "stream",
          "name": "stdout",
          "text": [
            "Reshaping encoder.mid.attn_1.q.weight for SD format\n",
            "Reshaping encoder.mid.attn_1.k.weight for SD format\n",
            "Reshaping encoder.mid.attn_1.v.weight for SD format\n",
            "Reshaping encoder.mid.attn_1.proj_out.weight for SD format\n",
            "Reshaping decoder.mid.attn_1.q.weight for SD format\n",
            "Reshaping decoder.mid.attn_1.k.weight for SD format\n",
            "Reshaping decoder.mid.attn_1.v.weight for SD format\n",
            "Reshaping decoder.mid.attn_1.proj_out.weight for SD format\n",
            "[*] Converted ckpt saved at /content/drive/MyDrive/stable_diffusion_weights/sks/model.ckpt\n"
          ]
        }
      ]
    }
  ],
  "metadata": {
    "colab": {
      "provenance": [],
      "toc_visible": true,
      "mount_file_id": "1Z0kSI7iuDvtJQ3ZwU5glEI8jVxtQ-gtm",
      "authorship_tag": "ABX9TyP0QLnUXZWRpcnaDrcYRn+Z",
      "include_colab_link": true
    },
    "kernelspec": {
      "display_name": "Python 3",
      "name": "python3"
    },
    "language_info": {
      "name": "python"
    },
    "accelerator": "GPU"
  },
  "nbformat": 4,
  "nbformat_minor": 0
}